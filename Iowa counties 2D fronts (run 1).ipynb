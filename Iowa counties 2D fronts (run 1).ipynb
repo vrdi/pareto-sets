{
 "cells": [
  {
   "cell_type": "markdown",
   "metadata": {},
   "source": [
    "## 2D Pareto fronts in Iowa\n",
    "This notebook explores the tradeoffs between various districting criteria using a dataset of 2,000 county-level Iowa districting plans collected using GerryChain's ReCom algorithm."
   ]
  },
  {
   "cell_type": "code",
   "execution_count": null,
   "metadata": {},
   "outputs": [],
   "source": [
    "%config InlineBackend.figure_formats = ['svg']\n",
    "\n",
    "import pandas as pd\n",
    "import pareto\n",
    "import matplotlib.pyplot as plt; plt.style.use('ggplot')"
   ]
  },
  {
   "cell_type": "code",
   "execution_count": null,
   "metadata": {},
   "outputs": [],
   "source": [
    "data = pd.read_csv('data/IA_counties_run_1_2000.csv')\n",
    "data['deviation_squared'] = data['percent_average_population_deviation']**2\n",
    "data['abs_deviation'] = abs(data['percent_average_population_deviation'])\n",
    "data['abs_mean_median'] = abs(data['mms_pres_2000'])\n",
    "collection = pareto.ParetoCollection(updaters=list(data.columns))"
   ]
  },
  {
   "cell_type": "code",
   "execution_count": null,
   "metadata": {},
   "outputs": [],
   "source": [
    "collection.add(data.to_dict(orient='records'))"
   ]
  },
  {
   "cell_type": "code",
   "execution_count": null,
   "metadata": {},
   "outputs": [],
   "source": [
    "data.columns"
   ]
  },
  {
   "cell_type": "code",
   "execution_count": null,
   "metadata": {},
   "outputs": [],
   "source": [
    "def plot_front(x_col, y_col, maxima=False):\n",
    "    front = collection.front([x_col, y_col], maxima=maxima)\n",
    "    x = [plan[x_col] for plan in collection.points]\n",
    "    y = [plan[y_col] for plan in collection.points]\n",
    "    pareto_x = [plan[x_col] for plan in front]\n",
    "    pareto_y = [plan[y_col] for plan in front]\n",
    "\n",
    "    plt.scatter(x, y)\n",
    "    front_type = 'maxima' if maxima else 'minima'\n",
    "    plt.scatter(pareto_x, pareto_y, label=f'Pareto front ({front_type})')\n",
    "    plt.legend()"
   ]
  },
  {
   "cell_type": "code",
   "execution_count": null,
   "metadata": {},
   "outputs": [],
   "source": [
    "plot_front('deviation_squared', 'percent_cut_edges')\n",
    "plt.xlabel('Population deviation (squared)')\n",
    "plt.ylabel('% cut edges')\n",
    "plt.xlim(-0.00015, 0.0005)\n",
    "plt.title('Population deviation² vs. cut edges in Iowa')\n",
    "plt.savefig('results/IA_counties_run_1_2000/squared_population_deviation_vs_cut_edges.png', dpi=300)\n",
    "plt.show()"
   ]
  },
  {
   "cell_type": "code",
   "execution_count": null,
   "metadata": {},
   "outputs": [],
   "source": [
    "plot_front('abs_deviation', 'percent_cut_edges')\n",
    "plt.xlabel('Absolute population deviation')\n",
    "plt.ylabel('% cut edges')\n",
    "plt.title('Absolute population deviation vs. cut edges in Iowa')\n",
    "plt.savefig('results/IA_counties_run_1_2000/absolute_population_deviation_vs_cut_edges.png', dpi=300)\n",
    "plt.show()"
   ]
  },
  {
   "cell_type": "code",
   "execution_count": null,
   "metadata": {},
   "outputs": [],
   "source": [
    "plot_front('egs_pres_2000', 'mms_pres_2000')\n",
    "plt.xlabel('Efficiency gap (2000 Presidential election)')\n",
    "plt.ylabel('Mean-median score (2000 Presidential election)')\n",
    "plt.title('Efficiency gap vs. mean-median score in Iowa')\n",
    "plt.savefig('results/IA_counties_run_1_2000/efficiency_gap_vs_mean_median.png', dpi=300)\n",
    "plt.show()"
   ]
  },
  {
   "cell_type": "code",
   "execution_count": null,
   "metadata": {},
   "outputs": [],
   "source": [
    "plot_front('percent_cut_edges', 'abs_mean_median')\n",
    "plt.xlabel('Absolute mean-median score (2000 Presidential election)')\n",
    "plt.ylabel('% cut edges')\n",
    "plt.title('Absolute mean-median score vs. % cut edges in Iowa')\n",
    "plt.savefig('results/IA_counties_run_1_2000/absolute_mean_median_vs_cut_edges.png', dpi=300)\n",
    "plt.show()"
   ]
  }
 ],
 "metadata": {
  "kernelspec": {
   "display_name": "Python 3",
   "language": "python",
   "name": "python3"
  },
  "language_info": {
   "codemirror_mode": {
    "name": "ipython",
    "version": 3
   },
   "file_extension": ".py",
   "mimetype": "text/x-python",
   "name": "python",
   "nbconvert_exporter": "python",
   "pygments_lexer": "ipython3",
   "version": "3.7.3"
  }
 },
 "nbformat": 4,
 "nbformat_minor": 2
}
