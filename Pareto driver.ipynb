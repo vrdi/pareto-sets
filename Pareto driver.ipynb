{
 "cells": [
  {
   "cell_type": "code",
   "execution_count": null,
   "metadata": {},
   "outputs": [],
   "source": [
    "%config InlineBackend.figure_formats = ['svg']\n",
    "import matplotlib.pyplot as plt\n",
    "from gerrychain import (GeographicPartition, Partition, Graph, MarkovChain,\n",
    "                        proposals, updaters, constraints, accept, Election)\n",
    "from gerrychain.proposals import recom\n",
    "from gerrychain.metrics import mean_median\n",
    "from functools import partial\n",
    "import pandas as pd\n",
    "import matplotlib.pyplot as plt; plt.style.use('ggplot')"
   ]
  },
  {
   "cell_type": "code",
   "execution_count": null,
   "metadata": {},
   "outputs": [],
   "source": [
    "graph = Graph.from_file(\"data/PA_VTD/PA_VTD.shp\")"
   ]
  },
  {
   "cell_type": "code",
   "execution_count": null,
   "metadata": {},
   "outputs": [],
   "source": [
    "def pop_deviation(partition):\n",
    "    return max(partition[\"population\"]) - min(partition[\"population\"])\n",
    "\n",
    "def abs_mean_median(partition, election=\"SEN16\"):\n",
    "    return abs(mean_median(partition[election]))\n",
    "\n",
    "# from https://gerrychain.readthedocs.io/en/latest/user/recom.html\n",
    "my_updaters = {\n",
    "    \"population\": updaters.Tally(\"TOT_POP\", alias=\"population\"),\n",
    "    \"cut_edges\": updaters.cut_edges,\n",
    "    \"n_cut_edges\": lambda p: len(updaters.cut_edges(p)),\n",
    "    \"mean_median\": abs_mean_median,\n",
    "    \"pop_deviation\": pop_deviation,\n",
    "}\n",
    "elections = [\n",
    "    Election(\"SEN10\", {\"Democratic\": \"SEN10D\", \"Republican\": \"SEN10R\"}),\n",
    "    Election(\"SEN12\", {\"Democratic\": \"USS12D\", \"Republican\": \"USS12R\"}),\n",
    "    Election(\"SEN16\", {\"Democratic\": \"T16SEND\", \"Republican\": \"T16SENR\"}),\n",
    "    Election(\"PRES12\", {\"Democratic\": \"PRES12D\", \"Republican\": \"PRES12R\"}),\n",
    "    Election(\"PRES16\", {\"Democratic\": \"T16PRESD\", \"Republican\": \"T16PRESR\"})\n",
    "]\n",
    "election_updaters = {election.name: election for election in elections}\n",
    "my_updaters.update(election_updaters)"
   ]
  },
  {
   "cell_type": "code",
   "execution_count": null,
   "metadata": {},
   "outputs": [],
   "source": [
    "initial_partition = GeographicPartition(graph, assignment=\"2011_PLA_1\", updaters=my_updaters)\n",
    "ideal_population = sum(initial_partition[\"population\"].values()) / len(initial_partition)\n",
    "pop_tolerance = 0.02\n",
    "\n",
    "proposal = partial(recom,\n",
    "                   pop_col=\"TOT_POP\",\n",
    "                   pop_target=ideal_population,\n",
    "                   epsilon=pop_tolerance,\n",
    "                   node_repeats=2\n",
    "                  )\n",
    "\n",
    "compactness_bound = constraints.UpperBound(\n",
    "    lambda p: len(p[\"cut_edges\"]),\n",
    "    2*len(initial_partition[\"cut_edges\"])\n",
    ")\n",
    "\n",
    "pop_constraint = constraints.within_percent_of_ideal_population(initial_partition, pop_tolerance)"
   ]
  },
  {
   "cell_type": "code",
   "execution_count": null,
   "metadata": {},
   "outputs": [],
   "source": [
    "from random import random\n",
    "import numpy as np\n",
    "\n",
    "def pareto_driver(partition, metrics, p=0.01):\n",
    "    \"\"\"\n",
    "    If the proposed partition dominates the previous partition\n",
    "    with respect to a set of scalar metrics, we accept the proposal\n",
    "    with probability 1.\n",
    "    \n",
    "    Otherwise, we accept the proposal with probability ``p``.\n",
    "    \"\"\"\n",
    "    dominant = True\n",
    "    for metric in metrics:\n",
    "        if partition[metric] >= partition.parent[metric]:\n",
    "            dominant = False\n",
    "            break\n",
    "    return dominant or random() < p"
   ]
  },
  {
   "cell_type": "code",
   "execution_count": null,
   "metadata": {},
   "outputs": [],
   "source": [
    "def score(partition, metrics, alpha):\n",
    "    return np.exp(sum(partition[metric] * weight\n",
    "                  for metric, weight in zip(metrics, alpha)))\n",
    "        \n",
    "def weighted_pareto_driver(partition, metrics, alpha, p=0.01):\n",
    "    return score(partition) < score(partition.parent) or random() < p"
   ]
  },
  {
   "cell_type": "code",
   "execution_count": null,
   "metadata": {},
   "outputs": [],
   "source": [
    "chain = MarkovChain(\n",
    "    proposal=proposal,\n",
    "    constraints=[\n",
    "        pop_constraint,\n",
    "        compactness_bound\n",
    "    ],\n",
    "    accept=partial(pareto_driver, metrics=['n_cut_edges', 'mean_median']),\n",
    "    initial_state=initial_partition,\n",
    "    total_steps=1000\n",
    ")"
   ]
  },
  {
   "cell_type": "code",
   "execution_count": null,
   "metadata": {},
   "outputs": [],
   "source": [
    "mm_data = []\n",
    "cut_data = []"
   ]
  },
  {
   "cell_type": "code",
   "execution_count": null,
   "metadata": {},
   "outputs": [],
   "source": [
    "for run in range(2):\n",
    "    print('--- Run', run, '---')\n",
    "    for part in chain:\n",
    "        cut_data.append(part['n_cut_edges'])\n",
    "        mm_data.append(part['mean_median'])\n",
    "        print(part['n_cut_edges'], part['mean_median'])"
   ]
  },
  {
   "cell_type": "code",
   "execution_count": null,
   "metadata": {},
   "outputs": [],
   "source": [
    "fig, ax1 = plt.subplots(figsize=(10, 8))\n",
    "ax1.set_xlabel('Step number')\n",
    "ax1.set_ylabel('Number of cut edges', color='tab:red')\n",
    "ax1.plot(range(len(cut_data)), cut_data, color='tab:red')\n",
    "\n",
    "ax2 = ax1.twinx()\n",
    "ax2.set_ylabel('Mean-median gap (SEN12)', color='tab:blue')\n",
    "ax2.plot(range(len(mm_data)), mm_data, color='tab:blue')\n",
    "\n",
    "plt.savefig('results/Pareto_driver/tradeoff_run4.png', dpi=300)\n",
    "plt.show()"
   ]
  },
  {
   "cell_type": "code",
   "execution_count": null,
   "metadata": {},
   "outputs": [],
   "source": [
    "plt.scatter(mm_data, cut_data, c=[idx // 1000 for idx, _ in enumerate(mm_data)])\n",
    "cbar = plt.colorbar()\n",
    "cbar.ax.set_ylabel('Walk')\n",
    "plt.xlabel('Absolute mean-median score')\n",
    "plt.ylabel('Number of cut edges')\n",
    "plt.title('Convergence of front over multiple walks')\n",
    "plt.savefig('results/Pareto_driver/front_convergence_over_multiple_walks.png')\n",
    "plt.show()"
   ]
  },
  {
   "cell_type": "code",
   "execution_count": null,
   "metadata": {},
   "outputs": [],
   "source": [
    "plt.scatter(mm_data, cut_data, c=[idx % 1000 for idx, _ in enumerate(mm_data)])\n",
    "plt.xlabel('Absolute mean-median score')\n",
    "plt.ylabel('Number of cut edges')\n",
    "plt.title('Front trajectories over multiple walks')\n",
    "cbar = plt.colorbar()\n",
    "cbar.ax.set_ylabel('Step number')\n",
    "plt.savefig('results/Pareto_driver/front_trajectory_over_multiple_walks.png')\n",
    "plt.show()"
   ]
  },
  {
   "cell_type": "code",
   "execution_count": null,
   "metadata": {},
   "outputs": [],
   "source": []
  },
  {
   "cell_type": "code",
   "execution_count": null,
   "metadata": {},
   "outputs": [],
   "source": []
  }
 ],
 "metadata": {
  "kernelspec": {
   "display_name": "Python 3",
   "language": "python",
   "name": "python3"
  },
  "language_info": {
   "codemirror_mode": {
    "name": "ipython",
    "version": 3
   },
   "file_extension": ".py",
   "mimetype": "text/x-python",
   "name": "python",
   "nbconvert_exporter": "python",
   "pygments_lexer": "ipython3",
   "version": "3.7.3"
  }
 },
 "nbformat": 4,
 "nbformat_minor": 2
}
