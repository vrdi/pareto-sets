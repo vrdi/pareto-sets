{
 "cells": [
  {
   "cell_type": "markdown",
   "metadata": {},
   "source": [
    "## Colorized Iowa 2D Pareto fronts\n",
    "This notebook explores the tradeoffs between districting criteria using a dataset of 5,000 county-level Iowa districting plans collected using GerryChain's random ReCom algorithm with a population tolerance of ±0.2%. This population bound has been significantly tightened from previous runs, which used a population tolerance of ±2%.\n",
    "\n",
    "This notebook continues our exploration of these tradeoffs with a different sample. Columns:\n",
    "- `cut_edges`: Percent of cut edges (relative to total edges)\n",
    "- `pop_pct`: Average percent population deviation across districts\n",
    "- `egs`: Efficiency gap (2000 Presidential election)\n",
    "- `mms`: Mean-median score (2000 Presidential election)\n",
    "- `polpop`: Polsby-Popper score"
   ]
  },
  {
   "cell_type": "code",
   "execution_count": null,
   "metadata": {},
   "outputs": [],
   "source": [
    "%config InlineBackend.figure_formats = ['svg']\n",
    "\n",
    "import pandas as pd\n",
    "import pareto\n",
    "import matplotlib.pyplot as plt; plt.style.use('ggplot')\n",
    "prefix = 'results/IA_counties_run_3_recom_tight_5000'"
   ]
  },
  {
   "cell_type": "code",
   "execution_count": null,
   "metadata": {},
   "outputs": [],
   "source": [
    "data = pd.read_csv('data/IA_counties_run_3_recom_tight_5000.csv')\n",
    "data['pop_dev_pct_abs'] = abs(data['pop_pct'])  # Absolute average population \n",
    "data['pop_dev_pct_squared'] = data['pop_pct']**2\n",
    "data['mms_abs'] = abs(data['mms'])\n",
    "collection = pareto.ParetoCollection(updaters=list(data.columns))"
   ]
  },
  {
   "cell_type": "code",
   "execution_count": null,
   "metadata": {},
   "outputs": [],
   "source": [
    "collection.add(data.to_dict(orient='records'))"
   ]
  },
  {
   "cell_type": "code",
   "execution_count": null,
   "metadata": {},
   "outputs": [],
   "source": [
    "data.columns"
   ]
  },
  {
   "cell_type": "code",
   "execution_count": null,
   "metadata": {},
   "outputs": [],
   "source": [
    "def plot_colorized_front(x_col, y_col, color_col, maxima=False, cmap='inferno'):\n",
    "    front = collection.front([x_col, y_col, color_col], maxima=maxima)\n",
    "    x = [plan[x_col] for plan in collection.points]\n",
    "    y = [plan[y_col] for plan in collection.points]\n",
    "    color = [plan[color_col] for plan in collection.points]\n",
    "    vmin = min(color)\n",
    "    vmax = max(color)\n",
    "    pareto_x = [plan[x_col] for plan in front]\n",
    "    pareto_y = [plan[y_col] for plan in front]\n",
    "    pareto_color = [plan[color_col] for plan in front]\n",
    "    plt.scatter(x, y, c=color, marker='.', cmap=cmap,\n",
    "                vmin=vmin, vmax=vmax)\n",
    "    front_type = 'maxima' if maxima else 'minima'\n",
    "    plt.scatter(pareto_x, pareto_y, c=pareto_color, cmap=cmap,\n",
    "                vmin=vmin, vmax=vmax,\n",
    "                label=f'Pareto front ({front_type})')\n",
    "    plt.colorbar()\n",
    "    plt.legend()"
   ]
  },
  {
   "cell_type": "code",
   "execution_count": null,
   "metadata": {},
   "outputs": [],
   "source": [
    "plt.figure(figsize=(8, 6))\n",
    "plot_colorized_front('mms_abs', 'cut_edges', 'pop_pct')\n",
    "plt.xlabel('Absolute mean-median score')\n",
    "plt.ylabel('% of cut edges')\n",
    "plt.title('Abs. MMS vs. cut edges in Iowa (colorized by pop. dev.)')\n",
    "plt.savefig(f'{prefix}/mms_cut_edges_population_deviation.png', dpi=300, figsize=(8, 6))\n",
    "plt.show()"
   ]
  },
  {
   "cell_type": "code",
   "execution_count": null,
   "metadata": {},
   "outputs": [],
   "source": []
  }
 ],
 "metadata": {
  "kernelspec": {
   "display_name": "Python 3",
   "language": "python",
   "name": "python3"
  },
  "language_info": {
   "codemirror_mode": {
    "name": "ipython",
    "version": 3
   },
   "file_extension": ".py",
   "mimetype": "text/x-python",
   "name": "python",
   "nbconvert_exporter": "python",
   "pygments_lexer": "ipython3",
   "version": "3.7.3"
  }
 },
 "nbformat": 4,
 "nbformat_minor": 2
}
