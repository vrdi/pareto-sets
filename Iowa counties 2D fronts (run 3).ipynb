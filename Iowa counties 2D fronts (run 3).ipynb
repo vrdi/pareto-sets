{
 "cells": [
  {
   "cell_type": "markdown",
   "metadata": {},
   "source": [
    "## Even more Iowa 2D Pareto fronts\n",
    "This notebook explores the tradeoffs between districting criteria using a dataset of 5,000 county-level Iowa districting plans collected using GerryChain's random ReCom algorithm with a population tolerance of ±0.2%. This population bound has been significantly tightened from previous runs, which used a population tolerance of ±2%.\n",
    "\n",
    "In our last experiment, we identified these pairings as particularly interesting examples of tradeoffs:\n",
    "- Absolute/squared population deviation vs. cut edges\n",
    "- Absolute mean-median gap vs. cut edges\n",
    "\n",
    "This notebook continues our exploration of these tradeoffs with a different sample. Columns:\n",
    "- `cut_edges`: Percent of cut edges (relative to total edges)\n",
    "- `pop_pct`: Average percent population deviation across districts\n",
    "- `egs`: Efficiency gap (2000 Presidential election)\n",
    "- `mms`: Mean-median score (2000 Presidential election)\n",
    "- `polpop`: Polsby-Popper score"
   ]
  },
  {
   "cell_type": "code",
   "execution_count": null,
   "metadata": {},
   "outputs": [],
   "source": [
    "%config InlineBackend.figure_formats = ['svg']\n",
    "\n",
    "import pandas as pd\n",
    "import pareto\n",
    "import matplotlib.pyplot as plt; plt.style.use('ggplot')\n",
    "prefix = 'results/IA_counties_run_3_recom_tight_5000'"
   ]
  },
  {
   "cell_type": "code",
   "execution_count": null,
   "metadata": {},
   "outputs": [],
   "source": [
    "data = pd.read_csv('data/IA_counties_run_3_recom_tight_5000.csv')\n",
    "data['pop_dev_pct_abs'] = abs(data['pop_pct'])  # Absolute average population \n",
    "data['pop_dev_pct_squared'] = data['pop_pct']**2\n",
    "data['mms_abs'] = abs(data['mms'])\n",
    "collection = pareto.ParetoCollection(updaters=list(data.columns))"
   ]
  },
  {
   "cell_type": "code",
   "execution_count": null,
   "metadata": {},
   "outputs": [],
   "source": [
    "collection.add(data.to_dict(orient='records'))"
   ]
  },
  {
   "cell_type": "code",
   "execution_count": null,
   "metadata": {},
   "outputs": [],
   "source": [
    "data.columns"
   ]
  },
  {
   "cell_type": "code",
   "execution_count": null,
   "metadata": {},
   "outputs": [],
   "source": [
    "def plot_front(x_col, y_col, maxima=False):\n",
    "    front = collection.front([x_col, y_col], maxima=maxima)\n",
    "    x = [plan[x_col] for plan in collection.points]\n",
    "    y = [plan[y_col] for plan in collection.points]\n",
    "    pareto_x = [plan[x_col] for plan in front]\n",
    "    pareto_y = [plan[y_col] for plan in front]\n",
    "\n",
    "    plt.scatter(x, y)\n",
    "    front_type = 'maxima' if maxima else 'minima'\n",
    "    plt.scatter(pareto_x, pareto_y, label=f'Pareto front ({front_type})')\n",
    "    plt.legend()"
   ]
  },
  {
   "cell_type": "code",
   "execution_count": null,
   "metadata": {},
   "outputs": [],
   "source": [
    "plot_front('pop_dev_pct_squared', 'cut_edges')\n",
    "plt.xlabel('Population deviation (squared)')\n",
    "plt.ylabel('% cut edges')\n",
    "plt.title('Population deviation² vs. cut edges in Iowa')\n",
    "plt.savefig(f'{prefix}/squared_population_deviation_vs_cut_edges.png', dpi=300)\n",
    "plt.xlim(-0.0000005, 0.000004)\n",
    "plt.ticklabel_format(style='sci', axis='x', scilimits=(0,0))\n",
    "plt.show()\n"
   ]
  },
  {
   "cell_type": "code",
   "execution_count": null,
   "metadata": {},
   "outputs": [],
   "source": [
    "plot_front('pop_dev_pct_abs', 'cut_edges')\n",
    "plt.xlabel('Absolute population deviation')\n",
    "plt.ylabel('% cut edges')\n",
    "plt.title('Absolute population deviation vs. cut edges in Iowa')\n",
    "plt.savefig(f'{prefix}/absolute_population_deviation_vs_cut_edges.png', dpi=300)\n",
    "plt.xlim(-0.0005, 0.0025)\n",
    "plt.show()"
   ]
  },
  {
   "cell_type": "code",
   "execution_count": null,
   "metadata": {},
   "outputs": [],
   "source": [
    "plot_front('mms_abs', 'cut_edges')\n",
    "plt.xlabel('Absolute mean-median score (2000 Presidential election)')\n",
    "plt.ylabel('% cut edges')\n",
    "plt.title('Absolute mean-median score vs. % cut edges in Iowa')\n",
    "plt.savefig(f'{prefix}/absolute_mean_median_vs_cut_edges.png', dpi=300)\n",
    "plt.show()"
   ]
  },
  {
   "cell_type": "code",
   "execution_count": null,
   "metadata": {},
   "outputs": [],
   "source": []
  }
 ],
 "metadata": {
  "kernelspec": {
   "display_name": "Python 3",
   "language": "python",
   "name": "python3"
  },
  "language_info": {
   "codemirror_mode": {
    "name": "ipython",
    "version": 3
   },
   "file_extension": ".py",
   "mimetype": "text/x-python",
   "name": "python",
   "nbconvert_exporter": "python",
   "pygments_lexer": "ipython3",
   "version": "3.7.3"
  }
 },
 "nbformat": 4,
 "nbformat_minor": 2
}
