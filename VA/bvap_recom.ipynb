{
 "cells": [
  {
   "cell_type": "code",
   "execution_count": 3,
   "metadata": {},
   "outputs": [],
   "source": [
    "import csv\n",
    "import os\n",
    "from functools import partial\n",
    "import json\n",
    "import random\n",
    "\n",
    "import geopandas as gpd\n",
    "import pandas as pd\n",
    "import matplotlib.pyplot as plt\n",
    "import numpy as np\n",
    "\n",
    "from mpl_toolkits.mplot3d import Axes3D\n",
    "\n",
    "from gerrychain import (\n",
    "    Election,\n",
    "    Graph,\n",
    "    MarkovChain,\n",
    "    Partition,\n",
    "    accept,\n",
    "    constraints,\n",
    "    updaters,\n",
    ")\n",
    "from gerrychain.metrics import efficiency_gap, mean_median, polsby_popper\n",
    "from gerrychain.proposals import recom, flip\n",
    "from gerrychain.updaters import cut_edges\n",
    "from gerrychain.tree import recursive_tree_part, bipartition_tree\n",
    "\n",
    "import tqdm"
   ]
  },
  {
   "cell_type": "code",
   "execution_count": 4,
   "metadata": {},
   "outputs": [],
   "source": [
    "graph_path = \"./VA_precincts/VA_precincts.shp\"\n",
    "jgraph = Graph.from_json(\"va_json.json\")"
   ]
  },
  {
   "cell_type": "code",
   "execution_count": 38,
   "metadata": {},
   "outputs": [],
   "source": [
    "df = gpd.read_file(graph_path)\n",
    "\n",
    "unique_label = \"loc_prec\"\n",
    "pop_col = \"TOTPOP\"\n",
    "district_col = \"CD\"\n",
    "\n",
    "def num_splits(partition):\n",
    "    df[\"current\"] = df[unique_label].map(dict(partition.assignment))\n",
    "    splits = sum(df.groupby(\"precinct\")[\"current\"].nunique() > 1)\n",
    "    return splits"
   ]
  },
  {
   "cell_type": "code",
   "execution_count": 39,
   "metadata": {},
   "outputs": [],
   "source": [
    "def pop_dist_pct(partition):\n",
    "    ideal_population = ideal_population = sum(partition[\"population\"].values()) / len(\n",
    "    partition)\n",
    "    total_deviation = total_deviation = sum([abs(v - ideal_population) for v in partition['population'].values()])\n",
    "    avg_dist = total_deviation/len(partition)\n",
    "    return avg_dist/ideal_population\n",
    "\n",
    "my_updaters = {\n",
    "    \"cut_edges\": cut_edges,\n",
    "    \"population\": updaters.Tally(\"TOTPOP\", alias = \"population\"),\n",
    "    \"pop_dist_pct\" : pop_dist_pct,\n",
    "    \"area\": updaters.Tally(\"Area\", alias = \"area\"),\n",
    "    \"perimeter\": updaters.Tally(\"Perimeter\", alias = \"perimeter\")\n",
    "}"
   ]
  },
  {
   "cell_type": "code",
   "execution_count": 40,
   "metadata": {},
   "outputs": [],
   "source": [
    "df[\"nBVAP\"] = df[\"VAP\"] - df[\"BVAP\"]\n",
    "df.round({\"VAP\": 1, \"BVAP\": 1, \"nBVAP\": 1})\n",
    "df[\"G18DSEN\"] = df[\"G18DSEN\"].astype(float)\n",
    "df[\"G18RSEN\"] = df[\"G18RSEN\"].astype(float)\n",
    "df[\"G17DGOV\"] = df[\"G17DGOV\"].astype(float)\n",
    "df[\"G17RGOV\"] = df[\"G17RGOV\"].astype(float)\n",
    "df[\"G16DPRS\"] = df[\"G16DPRS\"].astype(float)\n",
    "df[\"G16RPRS\"] = df[\"G16RPRS\"].astype(float)"
   ]
  },
  {
   "cell_type": "code",
   "execution_count": 41,
   "metadata": {},
   "outputs": [],
   "source": [
    "num_elections = 4\n",
    "\n",
    "election_names = [\n",
    "    \"G18SEN\",\n",
    "    \"G17GOV\",\n",
    "    \"G16PRS\",\n",
    "    \"BVAPs\"\n",
    "]\n",
    "\n",
    "election_columns = [\n",
    "    [df[\"G18DSEN\"], df[\"G18RSEN\"]],\n",
    "    [df[\"G17DGOV\"], df[\"G17RGOV\"]],\n",
    "    [df[\"G16DPRS\"], df[\"G16RPRS\"]],\n",
    "    [df[\"BVAP\"], df[\"nBVAP\"]],\n",
    "]\n",
    "\n",
    "elections = [\n",
    "    Election(\n",
    "        election_names[i],\n",
    "        {\"Democratic\": election_columns[i][0], \"Republican\": election_columns[i][1]},\n",
    "    )\n",
    "    for i in range(num_elections)\n",
    "]\n",
    "\n",
    "election_updaters = {election.name: election for election in elections}\n",
    "\n",
    "my_updaters.update(election_updaters)"
   ]
  },
  {
   "cell_type": "code",
   "execution_count": 42,
   "metadata": {},
   "outputs": [],
   "source": [
    "num_dist = 100\n",
    "initial_partition = Partition(jgraph, \"HDIST_11\", my_updaters)\n",
    "#pop = sum(initial_partition[\"population\"].values())\n",
    "#random_plan = recursive_tree_part(jgraph, range(num_dist), pop/num_dist, \"TOTPOP\", 0.01, 1)\n",
    "#initial_partition_random = Partition(jgraph, random_plan, my_updaters)"
   ]
  },
  {
   "cell_type": "code",
   "execution_count": 43,
   "metadata": {},
   "outputs": [],
   "source": [
    "ideal_population = pop / len(initial_partition)\n",
    "\n",
    "#proposal = partial(\n",
    "#    recom, pop_col=\"TOTPOP\", pop_target=ideal_population, epsilon=0.1, node_repeats=5\n",
    "#)"
   ]
  },
  {
   "cell_type": "code",
   "execution_count": 44,
   "metadata": {},
   "outputs": [],
   "source": [
    "pop_col = \"TOTPOP\"\n",
    "pop = sum(initial_partition[\"population\"].values())\n",
    "pop_target = pop/num_dist\n",
    "epsilon = 0.02\n",
    "node_repeats = 5"
   ]
  },
  {
   "cell_type": "code",
   "execution_count": 45,
   "metadata": {},
   "outputs": [],
   "source": [
    "def bvap_proposal(partition, pop_col, pop_target, epsilon, node_repeats,p, method = bipartition_tree):\n",
    "    if random.random() < p:\n",
    "        bvap_dict = {partition[\"BVAPs\"].percents(\"Democratic\")[i]:i for i in range(num_dist)}\n",
    "        bvap_sort = sorted(list(partition[\"BVAPs\"].percents(\"Democratic\")))\n",
    "        dist_choice = bvap_dict[bvap_sort[87]]\n",
    "        dist_choice_nodes = []\n",
    "        for x in range(initial_partition.graph.number_of_nodes()):\n",
    "            if partition.assignment[x] == str(dist_choice):\n",
    "                dist_choice_nodes.append(x)\n",
    "        b_nodes = {x[0] for x in partition[\"cut_edges\"]}.union(\n",
    "            {x[1] for x in partition[\"cut_edges\"]})\n",
    "        node_poss = set(dist_choice_nodes).intersection(b_nodes)\n",
    "        node_choice = random.choice(list(node_poss))\n",
    "        neighbor_assignments = list(set([partition.assignment[neighbor] for neighbor in partition.graph.neighbors(node_choice)]))\n",
    "        neighbor_assignments.remove(partition.assignment[node_choice])\n",
    "        parts_to_merge = (int(partition.assignment[node_choice]), int(random.choice(neighbor_assignments)))\n",
    "        subgraph = partition.graph.subgraph(\n",
    "            partition.parts[str(parts_to_merge[0])] | partition.parts[str(parts_to_merge[1])]\n",
    "        )\n",
    "        flips = recursive_tree_part(\n",
    "            subgraph,\n",
    "            parts_to_merge,\n",
    "            pop_col=pop_col,\n",
    "            pop_target=pop_target,\n",
    "            epsilon=epsilon,\n",
    "            node_repeats=node_repeats,\n",
    "            )\n",
    "        return partition.flip(flips)\n",
    "    else:\n",
    "        edge = random.choice(tuple(partition[\"cut_edges\"]))\n",
    "        parts_to_merge = (partition.assignment[edge[0]], partition.assignment[edge[1]])\n",
    "\n",
    "        subgraph = partition.graph.subgraph(\n",
    "            partition.parts[parts_to_merge[0]] | partition.parts[parts_to_merge[1]]\n",
    "        )\n",
    "\n",
    "        flips = recursive_tree_part(\n",
    "            subgraph,\n",
    "            parts_to_merge,\n",
    "            pop_col=pop_col,\n",
    "            pop_target=pop_target,\n",
    "            epsilon=epsilon,\n",
    "            node_repeats=node_repeats,\n",
    "        )\n",
    "\n",
    "        return partition.flip(flips)"
   ]
  },
  {
   "cell_type": "code",
   "execution_count": 46,
   "metadata": {},
   "outputs": [],
   "source": [
    "try1 = bvap_proposal(initial_partition, \"TOTPOP\", pop/num_dist, 0.02, 5, 0.1)"
   ]
  },
  {
   "cell_type": "code",
   "execution_count": 47,
   "metadata": {},
   "outputs": [],
   "source": [
    "compactness_bound = constraints.UpperBound(\n",
    "    lambda p: len(p[\"cut_edges\"]), 2 * len(initial_partition[\"cut_edges\"])\n",
    ")"
   ]
  },
  {
   "cell_type": "code",
   "execution_count": 56,
   "metadata": {},
   "outputs": [
    {
     "data": {
      "application/vnd.jupyter.widget-view+json": {
       "model_id": "f8668c0b749f4f5ca9bf45a528f5ce93",
       "version_major": 2,
       "version_minor": 0
      },
      "text/plain": [
       "HBox(children=(IntProgress(value=0, max=10000), HTML(value='')))"
      ]
     },
     "metadata": {},
     "output_type": "display_data"
    },
    {
     "ename": "TypeError",
     "evalue": "'Partition' object is not callable",
     "output_type": "error",
     "traceback": [
      "\u001b[0;31m---------------------------------------------------------------------------\u001b[0m",
      "\u001b[0;31mTypeError\u001b[0m                                 Traceback (most recent call last)",
      "\u001b[0;32m<ipython-input-56-7af7cb3ca6da>\u001b[0m in \u001b[0;36m<module>\u001b[0;34m\u001b[0m\n\u001b[1;32m     24\u001b[0m \u001b[0mt\u001b[0m\u001b[0;34m=\u001b[0m\u001b[0;36m0\u001b[0m\u001b[0;34m\u001b[0m\u001b[0;34m\u001b[0m\u001b[0m\n\u001b[1;32m     25\u001b[0m \u001b[0;34m\u001b[0m\u001b[0m\n\u001b[0;32m---> 26\u001b[0;31m \u001b[0;32mfor\u001b[0m \u001b[0mpart\u001b[0m \u001b[0;32min\u001b[0m \u001b[0mchain\u001b[0m\u001b[0;34m.\u001b[0m\u001b[0mwith_progress_bar\u001b[0m\u001b[0;34m(\u001b[0m\u001b[0;34m)\u001b[0m\u001b[0;34m:\u001b[0m\u001b[0;34m\u001b[0m\u001b[0;34m\u001b[0m\u001b[0m\n\u001b[0m\u001b[1;32m     27\u001b[0m     \u001b[0msplits\u001b[0m\u001b[0;34m.\u001b[0m\u001b[0mappend\u001b[0m\u001b[0;34m(\u001b[0m\u001b[0mnum_splits\u001b[0m\u001b[0;34m(\u001b[0m\u001b[0mpart\u001b[0m\u001b[0;34m)\u001b[0m\u001b[0;34m)\u001b[0m\u001b[0;34m\u001b[0m\u001b[0;34m\u001b[0m\u001b[0m\n\u001b[1;32m     28\u001b[0m     \u001b[0;31m#pop_dist_vec.append(avg_pop_dist(part))\u001b[0m\u001b[0;34m\u001b[0m\u001b[0;34m\u001b[0m\u001b[0;34m\u001b[0m\u001b[0m\n",
      "\u001b[0;32m/miniconda3/envs/VRDI/lib/python3.7/site-packages/tqdm/_tqdm_notebook.py\u001b[0m in \u001b[0;36m__iter__\u001b[0;34m(self, *args, **kwargs)\u001b[0m\n\u001b[1;32m    221\u001b[0m     \u001b[0;32mdef\u001b[0m \u001b[0m__iter__\u001b[0m\u001b[0;34m(\u001b[0m\u001b[0mself\u001b[0m\u001b[0;34m,\u001b[0m \u001b[0;34m*\u001b[0m\u001b[0margs\u001b[0m\u001b[0;34m,\u001b[0m \u001b[0;34m**\u001b[0m\u001b[0mkwargs\u001b[0m\u001b[0;34m)\u001b[0m\u001b[0;34m:\u001b[0m\u001b[0;34m\u001b[0m\u001b[0;34m\u001b[0m\u001b[0m\n\u001b[1;32m    222\u001b[0m         \u001b[0;32mtry\u001b[0m\u001b[0;34m:\u001b[0m\u001b[0;34m\u001b[0m\u001b[0;34m\u001b[0m\u001b[0m\n\u001b[0;32m--> 223\u001b[0;31m             \u001b[0;32mfor\u001b[0m \u001b[0mobj\u001b[0m \u001b[0;32min\u001b[0m \u001b[0msuper\u001b[0m\u001b[0;34m(\u001b[0m\u001b[0mtqdm_notebook\u001b[0m\u001b[0;34m,\u001b[0m \u001b[0mself\u001b[0m\u001b[0;34m)\u001b[0m\u001b[0;34m.\u001b[0m\u001b[0m__iter__\u001b[0m\u001b[0;34m(\u001b[0m\u001b[0;34m*\u001b[0m\u001b[0margs\u001b[0m\u001b[0;34m,\u001b[0m \u001b[0;34m**\u001b[0m\u001b[0mkwargs\u001b[0m\u001b[0;34m)\u001b[0m\u001b[0;34m:\u001b[0m\u001b[0;34m\u001b[0m\u001b[0;34m\u001b[0m\u001b[0m\n\u001b[0m\u001b[1;32m    224\u001b[0m                 \u001b[0;31m# return super(tqdm...) will not catch exception\u001b[0m\u001b[0;34m\u001b[0m\u001b[0;34m\u001b[0m\u001b[0;34m\u001b[0m\u001b[0m\n\u001b[1;32m    225\u001b[0m                 \u001b[0;32myield\u001b[0m \u001b[0mobj\u001b[0m\u001b[0;34m\u001b[0m\u001b[0;34m\u001b[0m\u001b[0m\n",
      "\u001b[0;32m/miniconda3/envs/VRDI/lib/python3.7/site-packages/tqdm/_tqdm.py\u001b[0m in \u001b[0;36m__iter__\u001b[0;34m(self)\u001b[0m\n\u001b[1;32m   1015\u001b[0m                 \"\"\"), fp_write=getattr(self.fp, 'write', sys.stderr.write))\n\u001b[1;32m   1016\u001b[0m \u001b[0;34m\u001b[0m\u001b[0m\n\u001b[0;32m-> 1017\u001b[0;31m             \u001b[0;32mfor\u001b[0m \u001b[0mobj\u001b[0m \u001b[0;32min\u001b[0m \u001b[0miterable\u001b[0m\u001b[0;34m:\u001b[0m\u001b[0;34m\u001b[0m\u001b[0;34m\u001b[0m\u001b[0m\n\u001b[0m\u001b[1;32m   1018\u001b[0m                 \u001b[0;32myield\u001b[0m \u001b[0mobj\u001b[0m\u001b[0;34m\u001b[0m\u001b[0;34m\u001b[0m\u001b[0m\n\u001b[1;32m   1019\u001b[0m                 \u001b[0;31m# Update and possibly print the progressbar.\u001b[0m\u001b[0;34m\u001b[0m\u001b[0;34m\u001b[0m\u001b[0;34m\u001b[0m\u001b[0m\n",
      "\u001b[0;32m/miniconda3/envs/VRDI/lib/python3.7/site-packages/gerrychain/chain.py\u001b[0m in \u001b[0;36m__next__\u001b[0;34m(self)\u001b[0m\n\u001b[1;32m     65\u001b[0m \u001b[0;34m\u001b[0m\u001b[0m\n\u001b[1;32m     66\u001b[0m         \u001b[0;32mwhile\u001b[0m \u001b[0mself\u001b[0m\u001b[0;34m.\u001b[0m\u001b[0mcounter\u001b[0m \u001b[0;34m<\u001b[0m \u001b[0mself\u001b[0m\u001b[0;34m.\u001b[0m\u001b[0mtotal_steps\u001b[0m\u001b[0;34m:\u001b[0m\u001b[0;34m\u001b[0m\u001b[0;34m\u001b[0m\u001b[0m\n\u001b[0;32m---> 67\u001b[0;31m             \u001b[0mproposed_next_state\u001b[0m \u001b[0;34m=\u001b[0m \u001b[0mself\u001b[0m\u001b[0;34m.\u001b[0m\u001b[0mproposal\u001b[0m\u001b[0;34m(\u001b[0m\u001b[0mself\u001b[0m\u001b[0;34m.\u001b[0m\u001b[0mstate\u001b[0m\u001b[0;34m)\u001b[0m\u001b[0;34m\u001b[0m\u001b[0;34m\u001b[0m\u001b[0m\n\u001b[0m\u001b[1;32m     68\u001b[0m             \u001b[0;31m# Erase the parent of the parent, to avoid memory leak\u001b[0m\u001b[0;34m\u001b[0m\u001b[0;34m\u001b[0m\u001b[0;34m\u001b[0m\u001b[0m\n\u001b[1;32m     69\u001b[0m             \u001b[0mself\u001b[0m\u001b[0;34m.\u001b[0m\u001b[0mstate\u001b[0m\u001b[0;34m.\u001b[0m\u001b[0mparent\u001b[0m \u001b[0;34m=\u001b[0m \u001b[0;32mNone\u001b[0m\u001b[0;34m\u001b[0m\u001b[0;34m\u001b[0m\u001b[0m\n",
      "\u001b[0;31mTypeError\u001b[0m: 'Partition' object is not callable"
     ]
    }
   ],
   "source": [
    "chain_length = 10000\n",
    "\n",
    "chain = MarkovChain(\n",
    "    proposal=bvap_proposal(partition = initial_partition, pop_col =\"TOTPOP\", pop_target = pop/num_dist, epsilon=0.02, node_repeats=5, p=0.1),\n",
    "    constraints=[\n",
    "        constraints.within_percent_of_ideal_population(initial_partition, .5),\n",
    "        compactness_bound,  # single_flip_contiguous#no_more_discontiguous\n",
    "    ],\n",
    "    accept=accept.always_accept,\n",
    "    initial_state=initial_partition,\n",
    "    total_steps=chain_length,\n",
    ")\n",
    "\n",
    "pop_vec = []\n",
    "cut_vec = []\n",
    "mms_vec = []\n",
    "egs_vec = []\n",
    "pop_dist_vec = []\n",
    "pop_pct_vec = []\n",
    "splits = []\n",
    "pol_pop = []\n",
    "votes = [[],[],[],[]]\n",
    "\n",
    "t=0\n",
    "\n",
    "for part in chain.with_progress_bar():\n",
    "    splits.append(num_splits(part))\n",
    "    #pop_dist_vec.append(avg_pop_dist(part))\n",
    "    pop_vec.append(sorted(list(part[\"population\"].values())))\n",
    "    cut_vec.append(len(part[\"cut_edges\"]))\n",
    "    mms_vec.append([])\n",
    "    egs_vec.append([])\n",
    "    pop_pct_vec.append(pop_dist_pct(part))\n",
    "    pol_pop.append(polsby_popper(part))\n",
    "    \n",
    "    for elect in range(num_elections):\n",
    "        votes[elect].append(sorted(part[election_names[elect]].percents(\"Democratic\")))\n",
    "        mms_vec[-1].append(mean_median(part[election_names[elect]]))\n",
    "        egs_vec[-1].append(efficiency_gap(part[election_names[elect]]))\n",
    "    "
   ]
  },
  {
   "cell_type": "code",
   "execution_count": 46,
   "metadata": {},
   "outputs": [
    {
     "data": {
      "text/plain": [
       "'13'"
      ]
     },
     "execution_count": 46,
     "metadata": {},
     "output_type": "execute_result"
    }
   ],
   "source": []
  },
  {
   "cell_type": "code",
   "execution_count": null,
   "metadata": {},
   "outputs": [],
   "source": []
  }
 ],
 "metadata": {
  "kernelspec": {
   "display_name": "Python 3",
   "language": "python",
   "name": "python3"
  },
  "language_info": {
   "codemirror_mode": {
    "name": "ipython",
    "version": 3
   },
   "file_extension": ".py",
   "mimetype": "text/x-python",
   "name": "python",
   "nbconvert_exporter": "python",
   "pygments_lexer": "ipython3",
   "version": "3.7.3"
  }
 },
 "nbformat": 4,
 "nbformat_minor": 2
}
