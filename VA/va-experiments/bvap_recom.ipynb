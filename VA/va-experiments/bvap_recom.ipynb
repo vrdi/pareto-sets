{
 "cells": [
  {
   "cell_type": "code",
   "execution_count": 158,
   "metadata": {},
   "outputs": [],
   "source": [
    "import csv\n",
    "import os\n",
    "from functools import partial\n",
    "import json\n",
    "import random\n",
    "\n",
    "import geopandas as gpd\n",
    "import pandas as pd\n",
    "import matplotlib.pyplot as plt\n",
    "import numpy as np\n",
    "\n",
    "from mpl_toolkits.mplot3d import Axes3D\n",
    "\n",
    "from gerrychain import (\n",
    "    Election,\n",
    "    Graph,\n",
    "    MarkovChain,\n",
    "    Partition,\n",
    "    accept,\n",
    "    constraints,\n",
    "    updaters,\n",
    ")\n",
    "from gerrychain.metrics import efficiency_gap, mean_median, polsby_popper\n",
    "from gerrychain.proposals import recom, flip\n",
    "from gerrychain.updaters import cut_edges\n",
    "from gerrychain.tree import recursive_tree_part, bipartition_tree\n",
    "\n",
    "import tqdm"
   ]
  },
  {
   "cell_type": "code",
   "execution_count": 4,
   "metadata": {},
   "outputs": [],
   "source": [
    "graph_path = \"./VA_precincts/VA_precincts.shp\"\n",
    "jgraph = Graph.from_json(\"va_json.json\")"
   ]
  },
  {
   "cell_type": "code",
   "execution_count": 5,
   "metadata": {},
   "outputs": [],
   "source": [
    "df = gpd.read_file(graph_path)\n",
    "\n",
    "def num_splits(partition):\n",
    "    df[\"current\"] = df[unique_label].map(dict(partition.assignment))\n",
    "    splits = sum(df.groupby(\"precinct\")[\"current\"].nunique() > 1)\n",
    "    return splits"
   ]
  },
  {
   "cell_type": "code",
   "execution_count": 6,
   "metadata": {},
   "outputs": [],
   "source": [
    "def pop_dist_pct(partition):\n",
    "    ideal_population = ideal_population = sum(partition[\"population\"].values()) / len(\n",
    "    partition)\n",
    "    total_deviation = total_deviation = sum([abs(v - ideal_population) for v in partition['population'].values()])\n",
    "    avg_dist = total_deviation/len(partition)\n",
    "    return avg_dist/ideal_population\n",
    "\n",
    "my_updaters = {\n",
    "    \"cut_edges\": cut_edges,\n",
    "    \"population\": updaters.Tally(\"TOTPOP\", alias = \"population\"),\n",
    "    \"pop_dist_pct\" : pop_dist_pct,\n",
    "    \"area\": updaters.Tally(\"Area\", alias = \"area\"),\n",
    "    \"perimeter\": updaters.Tally(\"Perimeter\", alias = \"perimeter\")\n",
    "}"
   ]
  },
  {
   "cell_type": "code",
   "execution_count": 7,
   "metadata": {},
   "outputs": [],
   "source": [
    "df[\"nBVAP\"] = df[\"VAP\"] - df[\"BVAP\"]\n",
    "df.round({\"VAP\": 1, \"BVAP\": 1, \"nBVAP\": 1})\n",
    "df[\"G18DSEN\"] = df[\"G18DSEN\"].astype(float)\n",
    "df[\"G18RSEN\"] = df[\"G18RSEN\"].astype(float)\n",
    "df[\"G17DGOV\"] = df[\"G17DGOV\"].astype(float)\n",
    "df[\"G17RGOV\"] = df[\"G17RGOV\"].astype(float)\n",
    "df[\"G16DPRS\"] = df[\"G16DPRS\"].astype(float)\n",
    "df[\"G16RPRS\"] = df[\"G16RPRS\"].astype(float)"
   ]
  },
  {
   "cell_type": "code",
   "execution_count": 8,
   "metadata": {},
   "outputs": [],
   "source": [
    "num_elections = 4\n",
    "\n",
    "election_names = [\n",
    "    \"G18SEN\",\n",
    "    \"G17GOV\",\n",
    "    \"G16PRS\",\n",
    "    \"BVAPs\"\n",
    "]\n",
    "\n",
    "election_columns = [\n",
    "    [df[\"G18DSEN\"], df[\"G18RSEN\"]],\n",
    "    [df[\"G17DGOV\"], df[\"G17RGOV\"]],\n",
    "    [df[\"G16DPRS\"], df[\"G16RPRS\"]],\n",
    "    [df[\"BVAP\"], df[\"nBVAP\"]],\n",
    "]\n",
    "\n",
    "elections = [\n",
    "    Election(\n",
    "        election_names[i],\n",
    "        {\"Democratic\": election_columns[i][0], \"Republican\": election_columns[i][1]},\n",
    "    )\n",
    "    for i in range(num_elections)\n",
    "]\n",
    "\n",
    "election_updaters = {election.name: election for election in elections}\n",
    "\n",
    "my_updaters.update(election_updaters)"
   ]
  },
  {
   "cell_type": "code",
   "execution_count": 10,
   "metadata": {},
   "outputs": [],
   "source": [
    "num_dist = 100\n",
    "initial_partition = Partition(jgraph, \"HDIST_11\", my_updaters)\n",
    "pop = sum(initial_partition[\"population\"].values())\n",
    "random_plan = recursive_tree_part(jgraph, range(num_dist), pop/num_dist, \"TOTPOP\", 0.01, 1)\n",
    "initial_partition_random = Partition(jgraph, random_plan, my_updaters)"
   ]
  },
  {
   "cell_type": "code",
   "execution_count": 11,
   "metadata": {},
   "outputs": [],
   "source": [
    "ideal_population = pop / len(initial_partition)\n",
    "\n",
    "#proposal = partial(\n",
    "#    recom, pop_col=\"TOTPOP\", pop_target=ideal_population, epsilon=0.1, node_repeats=5\n",
    "#)"
   ]
  },
  {
   "cell_type": "code",
   "execution_count": 155,
   "metadata": {},
   "outputs": [],
   "source": [
    "pop_col = \"TOTPOP\"\n",
    "pop = sum(initial_partition[\"population\"].values())\n",
    "pop_target = pop/num_dist\n",
    "epsilon = 0.02\n",
    "node_repeats = 5"
   ]
  },
  {
   "cell_type": "code",
   "execution_count": 174,
   "metadata": {},
   "outputs": [],
   "source": [
    "def bvap_proposal(partition, pop_col, pop_target, epsilon, node_repeats, p):\n",
    "    if random.random() < p:\n",
    "        bvap_dict = {partition[\"BVAPs\"].percents(\"Democratic\")[i]:i for i in range(num_dist)}\n",
    "        bvap_sort = sorted(list(partition[\"BVAPs\"].percents(\"Democratic\")))\n",
    "        dist_choice = bvap_dict[bvap_sort[87]]\n",
    "        dist_choice_nodes = []\n",
    "        for x in range(initial_partition.graph.number_of_nodes()):\n",
    "            if partition.assignment[x] == str(dist_choice):\n",
    "                dist_choice_nodes.append(x)\n",
    "        b_nodes = {x[0] for x in partition[\"cut_edges\"]}.union(\n",
    "            {x[1] for x in partition[\"cut_edges\"]})\n",
    "        node_poss = set(dist_choice_nodes).intersection(b_nodes)\n",
    "        node_choice = random.choice(list(node_poss))\n",
    "        neighbor_assignments = list(set([partition.assignment[neighbor] for neighbor in partition.graph.neighbors(node_choice)]))\n",
    "        neighbor_assignments.remove(partition.assignment[node_choice])\n",
    "        parts_to_merge = (int(partition.assignment[node_choice]), int(random.choice(neighbor_assignments)))\n",
    "        subgraph = partition.graph.subgraph(\n",
    "            partition.parts[str(parts_to_merge[0])] | partition.parts[str(parts_to_merge[1])]\n",
    "        )\n",
    "        flips = recursive_tree_part(\n",
    "            subgraph,\n",
    "            parts_to_merge,\n",
    "            pop_col=pop_col,\n",
    "            pop_target=pop_target,\n",
    "            epsilon=epsilon,\n",
    "            node_repeats=node_repeats,\n",
    "            )\n",
    "        return partition.flip(flips)\n",
    "    else:\n",
    "        recom"
   ]
  },
  {
   "cell_type": "code",
   "execution_count": 175,
   "metadata": {},
   "outputs": [],
   "source": [
    "bvap_proposal(initial_partition, pop_col, pop_target, epsilon, node_repeats, 0.1)"
   ]
  },
  {
   "cell_type": "code",
   "execution_count": 171,
   "metadata": {},
   "outputs": [],
   "source": []
  },
  {
   "cell_type": "code",
   "execution_count": 168,
   "metadata": {},
   "outputs": [
    {
     "data": {
      "text/plain": [
       "<Graph [43 nodes, 81 edges]>"
      ]
     },
     "execution_count": 168,
     "metadata": {},
     "output_type": "execute_result"
    }
   ],
   "source": [
    "subgraph"
   ]
  },
  {
   "cell_type": "code",
   "execution_count": 46,
   "metadata": {},
   "outputs": [
    {
     "data": {
      "text/plain": [
       "'13'"
      ]
     },
     "execution_count": 46,
     "metadata": {},
     "output_type": "execute_result"
    }
   ],
   "source": []
  },
  {
   "cell_type": "code",
   "execution_count": null,
   "metadata": {},
   "outputs": [],
   "source": []
  }
 ],
 "metadata": {
  "kernelspec": {
   "display_name": "Python 3",
   "language": "python",
   "name": "python3"
  },
  "language_info": {
   "codemirror_mode": {
    "name": "ipython",
    "version": 3
   },
   "file_extension": ".py",
   "mimetype": "text/x-python",
   "name": "python",
   "nbconvert_exporter": "python",
   "pygments_lexer": "ipython3",
   "version": "3.7.3"
  }
 },
 "nbformat": 4,
 "nbformat_minor": 2
}
