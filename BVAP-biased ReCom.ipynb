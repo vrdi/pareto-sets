{
 "cells": [
  {
   "cell_type": "code",
   "execution_count": null,
   "metadata": {},
   "outputs": [],
   "source": [
    "%config InlineBackend.figure_formats = ['svg']\n",
    "import matplotlib.pyplot as plt\n",
    "from gerrychain import (GeographicPartition, Partition, Graph, MarkovChain,\n",
    "                        proposals, updaters, constraints, accept, Election)\n",
    "from gerrychain.proposals import recom\n",
    "from gerrychain.metrics import mean_median\n",
    "from bvap_recom import bvap_biased_recom\n",
    "from functools import partial\n",
    "import pandas as pd\n",
    "import matplotlib.pyplot as plt; plt.style.use('ggplot')"
   ]
  },
  {
   "cell_type": "code",
   "execution_count": null,
   "metadata": {},
   "outputs": [],
   "source": [
    "graph = Graph.from_file(\"data/VA_precincts/VA_precincts.shp\")"
   ]
  },
  {
   "cell_type": "code",
   "execution_count": null,
   "metadata": {},
   "outputs": [],
   "source": [
    "for node in graph.nodes:\n",
    "    total_pop = graph.nodes[node]['TOTPOP']\n",
    "    bvap = graph.nodes[node]['BVAP']\n",
    "    graph.nodes[node]['nBVAP'] = total_pop - bvap\n",
    "    graph.nodes[node]['population'] = total_pop"
   ]
  },
  {
   "cell_type": "code",
   "execution_count": null,
   "metadata": {},
   "outputs": [],
   "source": [
    "# from https://gerrychain.readthedocs.io/en/latest/user/recom.html\n",
    "my_updaters = {\n",
    "    \"population\": updaters.Tally(\"TOTPOP\", alias=\"population\"),\n",
    "    \"cut_edges\": updaters.cut_edges,\n",
    "}\n",
    "elections = [\n",
    "    Election(\"BVAP\", {\"BVAP\": \"BVAP\", \"nBVAP\": \"nBVAP\"})\n",
    "]\n",
    "election_updaters = {election.name: election for election in elections}\n",
    "my_updaters.update(election_updaters)"
   ]
  },
  {
   "cell_type": "code",
   "execution_count": null,
   "metadata": {},
   "outputs": [],
   "source": [
    "import bvap_recom\n",
    "from importlib import reload\n",
    "bvap_recom = reload(bvap_recom)\n",
    "\n",
    "initial_partition = GeographicPartition(graph, assignment=\"HDIST_11\", updaters=my_updaters)\n",
    "ideal_population = sum(initial_partition[\"population\"].values()) / len(initial_partition)\n",
    "pop_tolerance = 0.15\n",
    "\n",
    "proposal = partial(bvap_recom.bvap_biased_recom,\n",
    "                   pop_col=\"TOTPOP\",\n",
    "                   bvap_col=\"BVAP\",\n",
    "                   pop_target=ideal_population,\n",
    "                   epsilon=pop_tolerance,\n",
    "                   node_repeats=5,\n",
    "                   target_districts=[86, 87],\n",
    "                   p_target=0.25\n",
    "                  )\n",
    "\n",
    "compactness_bound = constraints.UpperBound(\n",
    "    lambda p: len(p[\"cut_edges\"]),\n",
    "    2*len(initial_partition[\"cut_edges\"])\n",
    ")\n",
    "\n",
    "pop_constraint = constraints.within_percent_of_ideal_population(initial_partition, pop_tolerance)"
   ]
  },
  {
   "cell_type": "code",
   "execution_count": null,
   "metadata": {},
   "outputs": [],
   "source": [
    "chain = MarkovChain(\n",
    "    proposal=proposal,\n",
    "    constraints=[\n",
    "        pop_constraint,\n",
    "        compactness_bound\n",
    "    ],\n",
    "    accept=accept.always_accept,\n",
    "    initial_state=initial_partition,\n",
    "    total_steps=1000\n",
    ")"
   ]
  },
  {
   "cell_type": "code",
   "execution_count": null,
   "metadata": {},
   "outputs": [],
   "source": [
    "bvap_86 = []\n",
    "bvap_87 = []\n",
    "for run in range(1):\n",
    "    print('--- Run', run, '---')\n",
    "    for idx, part in enumerate(chain):\n",
    "        if idx % 25 == 0: print(idx)\n",
    "        bvaps = sorted(part['BVAP'].percents('BVAP'))\n",
    "        bvap_86.append(bvaps[86])\n",
    "        bvap_87.append(bvaps[87])"
   ]
  },
  {
   "cell_type": "code",
   "execution_count": null,
   "metadata": {},
   "outputs": [],
   "source": [
    "plt.scatter(bvap_86, bvap_87)\n",
    "plt.xlabel('BVAP 86')\n",
    "plt.ylabel('BVAP 87')\n",
    "plt.title(f'BVAP-biased ReCom ({len(bvap_86)} runs)')\n",
    "plt.savefig('results/bvap_biased_recom/bvap_86_vs_87.png', dpi=300)\n",
    "plt.show()"
   ]
  },
  {
   "cell_type": "code",
   "execution_count": null,
   "metadata": {},
   "outputs": [],
   "source": []
  },
  {
   "cell_type": "code",
   "execution_count": null,
   "metadata": {},
   "outputs": [],
   "source": []
  }
 ],
 "metadata": {
  "kernelspec": {
   "display_name": "Python 3",
   "language": "python",
   "name": "python3"
  },
  "language_info": {
   "codemirror_mode": {
    "name": "ipython",
    "version": 3
   },
   "file_extension": ".py",
   "mimetype": "text/x-python",
   "name": "python",
   "nbconvert_exporter": "python",
   "pygments_lexer": "ipython3",
   "version": "3.7.3"
  }
 },
 "nbformat": 4,
 "nbformat_minor": 2
}
